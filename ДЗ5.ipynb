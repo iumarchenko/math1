{
 "cells": [
  {
   "cell_type": "code",
   "execution_count": 53,
   "metadata": {},
   "outputs": [],
   "source": [
    "import numpy as np\n",
    "import matplotlib.pyplot as plt\n",
    "import matplotlib.mlab as mlab\n",
    "import math as math\n",
    "import itertools "
   ]
  },
  {
   "cell_type": "markdown",
   "metadata": {},
   "source": [
    "#### 1. Напишите код, моделирующий выпадение поля в рулетке (с учетом поля зеро)."
   ]
  },
  {
   "cell_type": "code",
   "execution_count": 12,
   "metadata": {},
   "outputs": [
    {
     "name": "stdout",
     "output_type": "stream",
     "text": [
      "23\n",
      "36\n",
      "12\n",
      "29\n",
      "36\n"
     ]
    }
   ],
   "source": [
    "for i in range(0,5):\n",
    "    x = np.random.randint(0,37)\n",
    "    print(x)"
   ]
  },
  {
   "cell_type": "markdown",
   "metadata": {},
   "source": [
    "#### 2.1 Напишите код, проверяющий любую из теорем сложения или умножения вероятности на примере рулетки или подбрасывания монетки."
   ]
  },
  {
   "cell_type": "code",
   "execution_count": 17,
   "metadata": {},
   "outputs": [
    {
     "name": "stdout",
     "output_type": "stream",
     "text": [
      "орел\n",
      "решка\n",
      "орел\n",
      "решка\n",
      "решка\n",
      "Орел выпал 2 раз \n",
      "Решка выпала 3 раз \n",
      "\n",
      "Вероятность выпадения орла 0.4 \n",
      "Вероятность выпадения решки 0.6 \n",
      "Сумма этих вероятностей 1.0\n"
     ]
    }
   ],
   "source": [
    "a, b, n = 0, 0, 5\n",
    "for i in range(0, n):\n",
    "    #a = input()\n",
    "    x = np.random.uniform(0,10)\n",
    "    if x < 5:\n",
    "        print(\"орел\")\n",
    "        a += 1\n",
    "    else:\n",
    "        print(\"решка\")\n",
    "        b += 1\n",
    "    \n",
    "#Р(А) + Р(В)  =  1\n",
    "print('Орел выпал {} раз \\nРешка выпала {} раз \\n'.format(a,b))\n",
    "print('Вероятность выпадения орла {} \\nВероятность выпадения решки {} \\nСумма этих вероятностей {}'.format(a/n,b/n, a/n + b/n))"
   ]
  },
  {
   "cell_type": "markdown",
   "metadata": {},
   "source": [
    "#### 2.2 Сгенерируйте десять выборок случайных чисел х0, …, х9 и постройте гистограмму распределения случайной суммы х0+х1+ …+ х9."
   ]
  },
  {
   "cell_type": "code",
   "execution_count": 44,
   "metadata": {},
   "outputs": [
    {
     "data": {
      "text/plain": [
       "Text(0.5, 1.0, 'Histogram')"
      ]
     },
     "execution_count": 44,
     "metadata": {},
     "output_type": "execute_result"
    },
    {
     "data": {
      "image/png": "[encoded data removed]",
      "text/plain": [
       "<Figure size 432x288 with 1 Axes>"
      ]
     },
     "metadata": {
      "needs_background": "light"
     },
     "output_type": "display_data"
    }
   ],
   "source": [
    "x = np.random.rand(10,10)\n",
    "num_bins = 5\n",
    "n, bins, patches = plt.hist(x.sum(axis=1),num_bins)\n",
    "plt.xlabel('x')\n",
    "plt.ylabel('Probability')\n",
    "plt.title('Histogram')"
   ]
  },
  {
   "cell_type": "markdown",
   "metadata": {},
   "source": [
    "#### 3.1 Дополните код Монте-Карло последовательности независимых испытаний расчетом соответствующих вероятностей (через биномиальное распределение) и сравните результаты."
   ]
  },
  {
   "cell_type": "code",
   "execution_count": 84,
   "metadata": {},
   "outputs": [
    {
     "name": "stdout",
     "output_type": "stream",
     "text": [
      "365 1000 0.365\n"
     ]
    }
   ],
   "source": [
    "# k - количество успехов\n",
    "# n - количество испытаний\n",
    "k, n = 0, 1000\n",
    "a = np.random.randint(0, 2, n)\n",
    "b = np.random.randint(0, 2, n)\n",
    "c = np.random.randint(0, 2, n)\n",
    "d = np.random.randint(0, 2, n)\n",
    "\n",
    "x = a + b + c + d\n",
    "for i in range(0, n):\n",
    "    if x[i] == 2:\n",
    "        k = k + 1\n",
    "\n",
    "# print(a,b,c,d)\n",
    "# print(x)\n",
    "print(k, n, k/n)"
   ]
  },
  {
   "cell_type": "code",
   "execution_count": 88,
   "metadata": {},
   "outputs": [],
   "source": [
    "def p_n_k(n,k):\n",
    "    # c = n!/(k!(n-k)!)\n",
    "    # p = cnk*p^k*(1-p)^(n-k)\n",
    "    cnk = math.factorial(n)/(math.factorial(k)*math.factorial(n-k))\n",
    "    p = cnk * ((1/2)**k) * ((1/2)**(n-k))\n",
    "    print(cnk, p)"
   ]
  },
  {
   "cell_type": "code",
   "execution_count": 90,
   "metadata": {},
   "outputs": [
    {
     "name": "stdout",
     "output_type": "stream",
     "text": [
      "6.0 0.375\n"
     ]
    }
   ],
   "source": [
    "n = 4\n",
    "k = 2\n",
    "p_n_k(n,k)"
   ]
  },
  {
   "cell_type": "markdown",
   "metadata": {},
   "source": [
    "#### 3.2 Повторите расчеты биномиальных коэффициентов и вероятностей k успехов в последовательности из n независимых испытаний, взяв другие значения n и k."
   ]
  },
  {
   "cell_type": "code",
   "execution_count": 91,
   "metadata": {},
   "outputs": [
    {
     "name": "stdout",
     "output_type": "stream",
     "text": [
      "4.0 0.25\n",
      "1.0 0.0625\n",
      "4.0 0.25\n"
     ]
    }
   ],
   "source": [
    "p_n_k(n,1)\n",
    "p_n_k(n,0)\n",
    "p_n_k(n,3)"
   ]
  },
  {
   "cell_type": "markdown",
   "metadata": {},
   "source": [
    "#### 4. Из урока по комбинаторике повторите расчеты, сгенерировав возможные варианты перестановок для других значений n и k"
   ]
  },
  {
   "cell_type": "code",
   "execution_count": 100,
   "metadata": {},
   "outputs": [
    {
     "name": "stdout",
     "output_type": "stream",
     "text": [
      "012\n",
      "013\n",
      "021\n",
      "023\n",
      "031\n",
      "032\n",
      "102\n",
      "103\n",
      "120\n",
      "123\n",
      "130\n",
      "132\n",
      "201\n",
      "203\n",
      "210\n",
      "213\n",
      "230\n",
      "231\n",
      "301\n",
      "302\n",
      "310\n",
      "312\n",
      "320\n",
      "321\n",
      "-----\n",
      " 24\n"
     ]
    }
   ],
   "source": [
    "c = 0\n",
    "for p in itertools.permutations('0123',3):\n",
    "    c +=1\n",
    "    print(''.join(str(x) for x in p))\n",
    "print('-----\\n',c)"
   ]
  },
  {
   "cell_type": "code",
   "execution_count": 101,
   "metadata": {},
   "outputs": [
    {
     "name": "stdout",
     "output_type": "stream",
     "text": [
      "012\n",
      "013\n",
      "023\n",
      "123\n",
      "-----\n",
      " 4\n"
     ]
    }
   ],
   "source": [
    "c = 0\n",
    "for p in itertools.combinations('0123',3):\n",
    "    c +=1\n",
    "    print(''.join(str(x) for x in p))\n",
    "print('-----\\n',c)"
   ]
  },
  {
   "cell_type": "code",
   "execution_count": 102,
   "metadata": {},
   "outputs": [
    {
     "name": "stdout",
     "output_type": "stream",
     "text": [
      "0000\n",
      "0001\n",
      "0002\n",
      "0003\n",
      "0010\n",
      "0011\n",
      "0012\n",
      "0013\n",
      "0020\n",
      "0021\n",
      "0022\n",
      "0023\n",
      "0030\n",
      "0031\n",
      "0032\n",
      "0033\n",
      "0100\n",
      "0101\n",
      "0102\n",
      "0103\n",
      "0110\n",
      "0111\n",
      "0112\n",
      "0113\n",
      "0120\n",
      "0121\n",
      "0122\n",
      "0123\n",
      "0130\n",
      "0131\n",
      "0132\n",
      "0133\n",
      "0200\n",
      "0201\n",
      "0202\n",
      "0203\n",
      "0210\n",
      "0211\n",
      "0212\n",
      "0213\n",
      "0220\n",
      "0221\n",
      "0222\n",
      "0223\n",
      "0230\n",
      "0231\n",
      "0232\n",
      "0233\n",
      "0300\n",
      "0301\n",
      "0302\n",
      "0303\n",
      "0310\n",
      "0311\n",
      "0312\n",
      "0313\n",
      "0320\n",
      "0321\n",
      "0322\n",
      "0323\n",
      "0330\n",
      "0331\n",
      "0332\n",
      "0333\n",
      "1000\n",
      "1001\n",
      "1002\n",
      "1003\n",
      "1010\n",
      "1011\n",
      "1012\n",
      "1013\n",
      "1020\n",
      "1021\n",
      "1022\n",
      "1023\n",
      "1030\n",
      "1031\n",
      "1032\n",
      "1033\n",
      "1100\n",
      "1101\n",
      "1102\n",
      "1103\n",
      "1110\n",
      "1111\n",
      "1112\n",
      "1113\n",
      "1120\n",
      "1121\n",
      "1122\n",
      "1123\n",
      "1130\n",
      "1131\n",
      "1132\n",
      "1133\n",
      "1200\n",
      "1201\n",
      "1202\n",
      "1203\n",
      "1210\n",
      "1211\n",
      "1212\n",
      "1213\n",
      "1220\n",
      "1221\n",
      "1222\n",
      "1223\n",
      "1230\n",
      "1231\n",
      "1232\n",
      "1233\n",
      "1300\n",
      "1301\n",
      "1302\n",
      "1303\n",
      "1310\n",
      "1311\n",
      "1312\n",
      "1313\n",
      "1320\n",
      "1321\n",
      "1322\n",
      "1323\n",
      "1330\n",
      "1331\n",
      "1332\n",
      "1333\n",
      "2000\n",
      "2001\n",
      "2002\n",
      "2003\n",
      "2010\n",
      "2011\n",
      "2012\n",
      "2013\n",
      "2020\n",
      "2021\n",
      "2022\n",
      "2023\n",
      "2030\n",
      "2031\n",
      "2032\n",
      "2033\n",
      "2100\n",
      "2101\n",
      "2102\n",
      "2103\n",
      "2110\n",
      "2111\n",
      "2112\n",
      "2113\n",
      "2120\n",
      "2121\n",
      "2122\n",
      "2123\n",
      "2130\n",
      "2131\n",
      "2132\n",
      "2133\n",
      "2200\n",
      "2201\n",
      "2202\n",
      "2203\n",
      "2210\n",
      "2211\n",
      "2212\n",
      "2213\n",
      "2220\n",
      "2221\n",
      "2222\n",
      "2223\n",
      "2230\n",
      "2231\n",
      "2232\n",
      "2233\n",
      "2300\n",
      "2301\n",
      "2302\n",
      "2303\n",
      "2310\n",
      "2311\n",
      "2312\n",
      "2313\n",
      "2320\n",
      "2321\n",
      "2322\n",
      "2323\n",
      "2330\n",
      "2331\n",
      "2332\n",
      "2333\n",
      "3000\n",
      "3001\n",
      "3002\n",
      "3003\n",
      "3010\n",
      "3011\n",
      "3012\n",
      "3013\n",
      "3020\n",
      "3021\n",
      "3022\n",
      "3023\n",
      "3030\n",
      "3031\n",
      "3032\n",
      "3033\n",
      "3100\n",
      "3101\n",
      "3102\n",
      "3103\n",
      "3110\n",
      "3111\n",
      "3112\n",
      "3113\n",
      "3120\n",
      "3121\n",
      "3122\n",
      "3123\n",
      "3130\n",
      "3131\n",
      "3132\n",
      "3133\n",
      "3200\n",
      "3201\n",
      "3202\n",
      "3203\n",
      "3210\n",
      "3211\n",
      "3212\n",
      "3213\n",
      "3220\n",
      "3221\n",
      "3222\n",
      "3223\n",
      "3230\n",
      "3231\n",
      "3232\n",
      "3233\n",
      "3300\n",
      "3301\n",
      "3302\n",
      "3303\n",
      "3310\n",
      "3311\n",
      "3312\n",
      "3313\n",
      "3320\n",
      "3321\n",
      "3322\n",
      "3323\n",
      "3330\n",
      "3331\n",
      "3332\n",
      "3333\n",
      "-----\n",
      " 256\n"
     ]
    }
   ],
   "source": [
    "c = 0\n",
    "for p in itertools.product('0123',repeat=4):\n",
    "    c +=1\n",
    "    print(''.join(p))\n",
    "print('-----\\n',c)"
   ]
  },
  {
   "cell_type": "markdown",
   "metadata": {},
   "source": [
    "#### 5. Дополните код расчетом коэффициента корреляции x и y"
   ]
  },
  {
   "cell_type": "code",
   "execution_count": 129,
   "metadata": {},
   "outputs": [
    {
     "name": "stdout",
     "output_type": "stream",
     "text": [
      "0.7478348568529671 0.12836106200449393\n",
      "0.7478348568529675 0.12836106200449376\n",
      "[[1.         0.93164931]\n",
      " [0.93164931 1.        ]]\n",
      "0.9316493069777099\n"
     ]
    },
    {
     "name": "stderr",
     "output_type": "stream",
     "text": [
      "D:\\GB_course\\Continuum\\anaconda3\\lib\\site-packages\\ipykernel_launcher.py:14: FutureWarning: `rcond` parameter will change to the default of machine precision times ``max(M, N)`` where M and N are the input matrix dimensions.\n",
      "To use the future default and silence this warning we advise to pass `rcond=None`, to keep using the old, explicitly pass `rcond=-1`.\n",
      "  \n"
     ]
    },
    {
     "data": {
      "image/png": "[encoded data removed]",
      "text/plain": [
       "<Figure size 432x288 with 1 Axes>"
      ]
     },
     "metadata": {
      "needs_background": "light"
     },
     "output_type": "display_data"
    }
   ],
   "source": [
    "n = 100\n",
    "r = 0.7\n",
    "x = np.random.rand(n)\n",
    "y = r*x + (1-r)*np.random.rand(n)\n",
    "plt.plot(x,y,'o')\n",
    "plt.xlabel('x')\n",
    "plt.ylabel('y')\n",
    "plt.grid(True)\n",
    "\n",
    "a = (np.sum(x)*np.sum(y) - n*np.sum(x*y))/(np.sum(x)*np.sum(x) - n*np.sum(x*x))\n",
    "b = (np.sum(y) - a*np.sum(x))/n\n",
    "\n",
    "A = np.vstack([x, np.ones(len(x))]).T\n",
    "a1,b1 = np.linalg.lstsq(A,y)[0]\n",
    "print(a,b)\n",
    "print(a1,b1)\n",
    "print(np.corrcoef(x,y))\n",
    "x_m = np.sum(x)/n\n",
    "y_m = np.sum(y)/n\n",
    "c = np.sum((x - x_m)*(y - y_m))/np.sqrt((np.sum((x - x_m)**2))*(np.sum((y - y_m)**2)))\n",
    "print(c)\n",
    "\n",
    "plt.plot([0,1], [b,a+b])\n",
    "plt.show()"
   ]
  },
  {
   "cell_type": "code",
   "execution_count": null,
   "metadata": {},
   "outputs": [],
   "source": []
  },
  {
   "cell_type": "code",
   "execution_count": null,
   "metadata": {},
   "outputs": [],
   "source": []
  }
 ],
 "metadata": {
  "kernelspec": {
   "display_name": "Python 3",
   "language": "python",
   "name": "python3"
  },
  "language_info": {
   "codemirror_mode": {
    "name": "ipython",
    "version": 3
   },
   "file_extension": ".py",
   "mimetype": "text/x-python",
   "name": "python",
   "nbconvert_exporter": "python",
   "pygments_lexer": "ipython3",
   "version": "3.7.3"
  }
 },
 "nbformat": 4,
 "nbformat_minor": 2
}
